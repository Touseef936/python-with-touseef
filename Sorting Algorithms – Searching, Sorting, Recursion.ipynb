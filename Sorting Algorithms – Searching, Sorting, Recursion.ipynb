{
 "cells": [
  {
   "cell_type": "code",
   "execution_count": 0,
   "metadata": {
    "application/vnd.databricks.v1+cell": {
     "cellMetadata": {
      "byteLimit": 2048000,
      "rowLimit": 10000
     },
     "inputWidgets": {},
     "nuid": "04fdc8d8-300d-42f0-9487-a6b585db069c",
     "showTitle": false,
     "tableResultSettingsMap": {},
     "title": ""
    }
   },
   "outputs": [
    {
     "output_type": "stream",
     "name": "stdout",
     "output_type": "stream",
     "text": [
      "Sorted Array in unsorted Order:\n[2, 1, 6, 9, 5, 3, 4, 8]\nSorted Array in sorted Order:\n[1, 2, 3, 4, 5, 6, 8, 9]\n"
     ]
    }
   ],
   "source": [
    "#bubble Sorting (keep Swaping Adjecent element untill it is sorted)\n",
    "def bubble_Sorting(arr):\n",
    "    n=len(arr)\n",
    "    for i in range(n):\n",
    "        for j in range(n-1):\n",
    "            if arr[j] >arr[j+1]:\n",
    "                arr[j],arr[j+1]=arr[j+1],arr[j]\n",
    "array=[2,1,6,9,5,3,4,8]\n",
    "print('Sorted Array in unsorted Order:')\n",
    "print(array)\n",
    "bubble_Sorting(array)\n",
    "\n",
    "print('Sorted Array in sorted Order:')\n",
    "print(array)                \n",
    "                   "
   ]
  },
  {
   "cell_type": "code",
   "execution_count": 0,
   "metadata": {
    "application/vnd.databricks.v1+cell": {
     "cellMetadata": {
      "byteLimit": 2048000,
      "rowLimit": 10000
     },
     "inputWidgets": {},
     "nuid": "b4be8c6f-1d00-4a7d-8770-27fba9730d5a",
     "showTitle": false,
     "tableResultSettingsMap": {},
     "title": ""
    }
   },
   "outputs": [
    {
     "output_type": "stream",
     "name": "stdout",
     "output_type": "stream",
     "text": [
      "Unsorted Array\n[6, 4, 2, 1, 9, 8, 3, 5, 8]\nSorted Array\n[1, 2, 3, 4, 5, 6, 8, 8, 9]\n"
     ]
    }
   ],
   "source": [
    "'''Merge Sort\n",
    "  Divide:  Divide the list or array recursively into two halves until it can no more be divided. \n",
    "  Conquer:  Each subarray is sorted individually using the merge sort algorithm. \n",
    "  Merge:  The sorted subarrays are merged back together in sorted order. The process continues until all elements from both subarrays have been merged. \n",
    "'''\n",
    "\n",
    "def MergeSort(arr):\n",
    "    if len(arr) <= 1:\n",
    "        return arr\n",
    "    mid = len(arr) // 2\n",
    "    left_half = arr[:mid]\n",
    "    right_half = arr[mid:]\n",
    "    merge_left = MergeSort(left_half)\n",
    "    merge_right = MergeSort(right_half)\n",
    "    return Merge(merge_left, merge_right)\n",
    "\n",
    "def Merge(left, right):\n",
    "    result = []\n",
    "    i = j = 0\n",
    "    while i < len(left) and j < len(right):\n",
    "        if left[i] < right[j]:\n",
    "            result.append(left[i])  \n",
    "            i += 1\n",
    "        else:\n",
    "            result.append(right[j])\n",
    "            j += 1\n",
    "    result.extend(left[i:])\n",
    "    result.extend(right[j:])\n",
    "    return result    \n",
    "\n",
    "array = [6, 4, 2, 1, 9, 8, 3, 5, 8]\n",
    "print(\"Unsorted Array\")\n",
    "print(array)\n",
    "sorted_array = MergeSort(array)\n",
    "print(\"Sorted Array\")\n",
    "print(sorted_array)\n"
   ]
  },
  {
   "cell_type": "code",
   "execution_count": 0,
   "metadata": {
    "application/vnd.databricks.v1+cell": {
     "cellMetadata": {
      "byteLimit": 2048000,
      "rowLimit": 10000
     },
     "inputWidgets": {},
     "nuid": "1ebe2d0e-ddbe-4718-a09d-4d741aeae9d8",
     "showTitle": false,
     "tableResultSettingsMap": {},
     "title": ""
    }
   },
   "outputs": [
    {
     "output_type": "stream",
     "name": "stdout",
     "output_type": "stream",
     "text": [
      "Unsorted array:\n[6, 4, 2, 1, 9, 8, 3, 5, 8]\nSorted array:\n[1, 2, 3, 4, 5, 6, 8, 8, 9]\n"
     ]
    }
   ],
   "source": [
    "# Task: Implement Quick Sort manually\n",
    "def Quick_Sort(arr, low, high):\n",
    "    if low < high:\n",
    "        pivot = partition(arr, low, high)\n",
    "        Quick_Sort(arr, low, pivot - 1)\n",
    "        Quick_Sort(arr, pivot + 1, high)\n",
    "\n",
    "def partition(arr, low, high):\n",
    "    pivot = arr[low]\n",
    "    i = low + 1\n",
    "    j = high\n",
    "    while True:\n",
    "        while i <= j and arr[i] <= pivot:\n",
    "            i += 1\n",
    "        while i <= j and arr[j] >= pivot:\n",
    "            j -= 1\n",
    "        if i <= j:\n",
    "            arr[i], arr[j] = arr[j], arr[i]\n",
    "        else:\n",
    "            break\n",
    "    arr[low], arr[j] = arr[j], arr[low]\n",
    "    return j\n",
    "\n",
    "# Sample array\n",
    "array = [6, 4, 2, 1, 9, 8, 3, 5, 8]\n",
    "print(\"Unsorted array:\")\n",
    "print(array)\n",
    "\n",
    "Quick_Sort(array, 0, len(array) - 1)\n",
    "\n",
    "print(\"Sorted array:\")\n",
    "print(array)\n"
   ]
  },
  {
   "cell_type": "code",
   "execution_count": 0,
   "metadata": {
    "application/vnd.databricks.v1+cell": {
     "cellMetadata": {
      "byteLimit": 2048000,
      "rowLimit": 10000
     },
     "inputWidgets": {},
     "nuid": "3e088799-84b6-4b11-9173-4c983ebedd6e",
     "showTitle": false,
     "tableResultSettingsMap": {},
     "title": ""
    }
   },
   "outputs": [
    {
     "output_type": "display_data",
     "data": {
      "text/plain": [
       "Enter ther Search value form array = [10,9,2,80,12,45]: 45"
      ]
     },
     "metadata": {},
     "output_type": "display_data"
    },
    {
     "output_type": "stream",
     "name": "stdout",
     "output_type": "stream",
     "text": [
      "Searching value is:45\nSearch Value found on index number :[5]\n"
     ]
    },
    {
     "output_type": "execute_result",
     "data": {
      "text/plain": [
       "5"
      ]
     },
     "execution_count": 3,
     "metadata": {},
     "output_type": "execute_result"
    }
   ],
   "source": [
    "#Linear Searching (Check each element one by one)\n",
    "def linearSearching():\n",
    "    arr=[10,9,2,80,12,45]\n",
    "    Search_value = int(input(\"Enter ther Search value form array = [10,9,2,80,12,45]:\"))\n",
    "    \n",
    "    for i in range(0,6):\n",
    "        if Search_value==arr[i] :\n",
    "            print(f\"Searching value is:{Search_value}\")\n",
    "            print(f\"Search Value found on index number :{[i]}\")\n",
    "            return i\n",
    "    else:\n",
    "        print(\"Value not Found\")\n",
    "linearSearching()    "
   ]
  },
  {
   "cell_type": "code",
   "execution_count": 0,
   "metadata": {
    "application/vnd.databricks.v1+cell": {
     "cellMetadata": {
      "byteLimit": 2048000,
      "rowLimit": 10000
     },
     "inputWidgets": {},
     "nuid": "15232694-8ef6-4519-80f7-427a954824e0",
     "showTitle": false,
     "tableResultSettingsMap": {},
     "title": ""
    }
   },
   "outputs": [
    {
     "output_type": "display_data",
     "data": {
      "text/plain": [
       "Enter ther Search value form array=[10,20,30,40,50]: 10"
      ]
     },
     "metadata": {},
     "output_type": "display_data"
    },
    {
     "output_type": "stream",
     "name": "stdout",
     "output_type": "stream",
     "text": [
      "Searching value is:10\nSearch Value found on index number :0\n"
     ]
    }
   ],
   "source": [
    "#bineary Searching (only work in sorted array ,keep divide the searching range into half)\n",
    "def Binaray_Searching():\n",
    "    arr=[10,20,30,40,50]\n",
    "    Search_value=int(input(\"Enter ther Search value form array=[10,20,30,40,50]:\"))\n",
    "    low=0\n",
    "    high= len(arr) - 1\n",
    "    \n",
    "    \n",
    "    while low <= high:\n",
    "        mid=(low +high)//2\n",
    "        if arr[mid]==Search_value:\n",
    "            print(f\"Searching value is:{Search_value}\")\n",
    "            print(f\"Search Value found on index number :{mid}\")\n",
    "            return\n",
    "        elif  Search_value > arr[mid] :\n",
    "            low = mid + 1  \n",
    "        elif Search_value < arr[mid]:\n",
    "            high= mid - 1   \n",
    "    print(\"Searching value not found in array\")    \n",
    "Binaray_Searching()"
   ]
  },
  {
   "cell_type": "code",
   "execution_count": 0,
   "metadata": {
    "application/vnd.databricks.v1+cell": {
     "cellMetadata": {
      "byteLimit": 2048000,
      "rowLimit": 10000
     },
     "inputWidgets": {},
     "nuid": "a3956314-4d32-4787-adf7-28a2e719ad8a",
     "showTitle": false,
     "tableResultSettingsMap": {},
     "title": ""
    }
   },
   "outputs": [
    {
     "output_type": "display_data",
     "data": {
      "text/plain": [
       "Enter the number for factorial: 5"
      ]
     },
     "metadata": {},
     "output_type": "display_data"
    },
    {
     "output_type": "stream",
     "name": "stdout",
     "output_type": "stream",
     "text": [
      "Factorial of  5 is 120\n"
     ]
    }
   ],
   "source": [
    "#Factorial (that call it self)\n",
    "def factorial(n):\n",
    "    if n==0 or n==1:\n",
    "        return 1\n",
    "    else:\n",
    "        return n*factorial(n-1)\n",
    "n=int(input(\"Enter the number for factorial:\"))\n",
    "\n",
    "print(\"Factorial of \",n,\"is\",factorial(n))"
   ]
  }
 ],
 "metadata": {
  "application/vnd.databricks.v1+notebook": {
   "computePreferences": null,
   "dashboards": [],
   "environmentMetadata": {
    "base_environment": "",
    "environment_version": "2"
   },
   "inputWidgetPreferences": null,
   "language": "python",
   "notebookMetadata": {
    "pythonIndentUnit": 4
   },
   "notebookName": "Sorting Algorithms – Searching, Sorting, Recursion",
   "widgets": {}
  },
  "language_info": {
   "name": "python"
  }
 },
 "nbformat": 4,
 "nbformat_minor": 0
}