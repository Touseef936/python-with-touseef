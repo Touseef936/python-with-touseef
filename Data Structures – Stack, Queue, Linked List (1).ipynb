{
 "cells": [
  {
   "cell_type": "code",
   "execution_count": 0,
   "metadata": {
    "application/vnd.databricks.v1+cell": {
     "cellMetadata": {
      "byteLimit": 2048000,
      "rowLimit": 10000
     },
     "inputWidgets": {},
     "nuid": "4dd478a6-44c3-4813-9174-23c699c19633",
     "showTitle": false,
     "tableResultSettingsMap": {},
     "title": ""
    }
   },
   "outputs": [
    {
     "output_type": "stream",
     "name": "stdout",
     "output_type": "stream",
     "text": [
      "[3, 2, 1]\n[3, 2]\n"
     ]
    }
   ],
   "source": [
    "#Simple Stack using List\n",
    "class Stack:\n",
    "    def __init__(self):\n",
    "        self.stack=[]\n",
    "    def push(self,x):\n",
    "        self.stack=[x]+self.stack\n",
    "    def pop(self,x):\n",
    "        return self.stack.pop()\n",
    "s=Stack()   \n",
    "s.push(1)\n",
    "s.push(2)\n",
    "s.push(3)     \n",
    "print(s.stack)\n",
    "s.pop(0)  \n",
    "print(s.stack)  "
   ]
  },
  {
   "cell_type": "code",
   "execution_count": 0,
   "metadata": {
    "application/vnd.databricks.v1+cell": {
     "cellMetadata": {
      "byteLimit": 2048000,
      "rowLimit": 10000
     },
     "inputWidgets": {},
     "nuid": "bcb5987e-a245-4994-953d-037b2df9bb07",
     "showTitle": false,
     "tableResultSettingsMap": {},
     "title": ""
    }
   },
   "outputs": [
    {
     "output_type": "display_data",
     "data": {
      "text/plain": [
       "1.Push 2.Pop 3.Top Value 4.Display 5.Exit:  1"
      ]
     },
     "metadata": {},
     "output_type": "display_data"
    },
    {
     "output_type": "display_data",
     "data": {
      "text/plain": [
       "Enter the Number:  10"
      ]
     },
     "metadata": {},
     "output_type": "display_data"
    },
    {
     "output_type": "stream",
     "name": "stdout",
     "output_type": "stream",
     "text": [
      "Pushed 10\n"
     ]
    },
    {
     "output_type": "display_data",
     "data": {
      "text/plain": [
       "1.Push 2.Pop 3.Top Value 4.Display 5.Exit:  1"
      ]
     },
     "metadata": {},
     "output_type": "display_data"
    },
    {
     "output_type": "display_data",
     "data": {
      "text/plain": [
       "Enter the Number:  20"
      ]
     },
     "metadata": {},
     "output_type": "display_data"
    },
    {
     "output_type": "stream",
     "name": "stdout",
     "output_type": "stream",
     "text": [
      "Pushed 20\n"
     ]
    },
    {
     "output_type": "display_data",
     "data": {
      "text/plain": [
       "1.Push 2.Pop 3.Top Value 4.Display 5.Exit:  4"
      ]
     },
     "metadata": {},
     "output_type": "display_data"
    },
    {
     "output_type": "stream",
     "name": "stdout",
     "output_type": "stream",
     "text": [
      "Full stack [10, 20]\n"
     ]
    },
    {
     "output_type": "display_data",
     "data": {
      "text/plain": [
       "1.Push 2.Pop 3.Top Value 4.Display 5.Exit:  2"
      ]
     },
     "metadata": {},
     "output_type": "display_data"
    },
    {
     "output_type": "stream",
     "name": "stdout",
     "output_type": "stream",
     "text": [
      "Popped Value 20\n"
     ]
    },
    {
     "output_type": "display_data",
     "data": {
      "text/plain": [
       "1.Push 2.Pop 3.Top Value 4.Display 5.Exit:  4"
      ]
     },
     "metadata": {},
     "output_type": "display_data"
    },
    {
     "output_type": "stream",
     "name": "stdout",
     "output_type": "stream",
     "text": [
      "Full stack [10]\n"
     ]
    },
    {
     "output_type": "display_data",
     "data": {
      "text/plain": [
       "1.Push 2.Pop 3.Top Value 4.Display 5.Exit:  5"
      ]
     },
     "metadata": {},
     "output_type": "display_data"
    }
   ],
   "source": [
    "# Stack using List (Stack is a linear Data structure - LIFO)\n",
    "#Take Input from user\n",
    "class Stack:\n",
    "    def __init__(self):\n",
    "        self.stack = []\n",
    "\n",
    "    def push(self, value):\n",
    "        self.stack.append(value)\n",
    "        print(\"Pushed\", value)\n",
    "\n",
    "    def pop(self):\n",
    "        if len(self.stack) == 0:\n",
    "            print(\"Stack is empty\")\n",
    "        else:\n",
    "            popped = self.stack.pop()\n",
    "            print(\"Popped Value\", popped)\n",
    "\n",
    "    def Top(self):\n",
    "        if len(self.stack) == 0:\n",
    "            print(\"Stack is empty\")\n",
    "        else:\n",
    "            print(\"Top\", self.stack[-1])\n",
    "\n",
    "    def Display(self):\n",
    "        print(\"Full stack\", self.stack)\n",
    "\n",
    "\n",
    "s = Stack()\n",
    "\n",
    "\n",
    "while True:\n",
    "    Choose = int(input(\"1.Push 2.Pop 3.Top Value 4.Display 5.Exit: \"))\n",
    "\n",
    "    if Choose == 1:\n",
    "        value = int(input(\"Enter the Number: \"))\n",
    "        s.push(value)\n",
    "    elif Choose == 2:\n",
    "        s.pop()\n",
    "    elif Choose == 3:\n",
    "        s.Top()\n",
    "    elif Choose == 4:\n",
    "        s.Display()\n",
    "    elif Choose == 5:\n",
    "        break\n",
    "    else:\n",
    "        print(\"Invalid Number\")\n"
   ]
  },
  {
   "cell_type": "code",
   "execution_count": 0,
   "metadata": {
    "application/vnd.databricks.v1+cell": {
     "cellMetadata": {
      "byteLimit": 2048000,
      "rowLimit": 10000
     },
     "inputWidgets": {},
     "nuid": "6420a8fd-68fb-478e-9fea-a8fc4ad16079",
     "showTitle": false,
     "tableResultSettingsMap": {},
     "title": ""
    }
   },
   "outputs": [
    {
     "output_type": "stream",
     "name": "stdout",
     "output_type": "stream",
     "text": [
      "Enqueued 10\nEnqueued 20\nEnqueued 30\n[10, 20, 30]\nDequeued 10\n[20, 30]\n"
     ]
    }
   ],
   "source": [
    "#Queue\n",
    "class Queue:\n",
    "    def __init__(self):\n",
    "        self.queue=[]\n",
    "\n",
    "    def enqueue(self,value):\n",
    "        self.queue.append(value)\n",
    "        print(\"Enqueued\",value)    \n",
    "    \n",
    "    def dequeue(self):\n",
    "        Front=self.queue[0]\n",
    "        self.queue=self.queue[1:]\n",
    "        print(\"Dequeued\",Front)\n",
    "q=Queue()\n",
    "q.enqueue(10)\n",
    "q.enqueue(20)\n",
    "q.enqueue(30)\n",
    "print(q.queue)\n",
    "q.dequeue()\n",
    "print(q.queue)\n",
    "\n"
   ]
  },
  {
   "cell_type": "code",
   "execution_count": 0,
   "metadata": {
    "application/vnd.databricks.v1+cell": {
     "cellMetadata": {
      "byteLimit": 2048000,
      "rowLimit": 10000
     },
     "inputWidgets": {},
     "nuid": "fdc31e0a-99c1-4b85-9277-c5c92e7ade83",
     "showTitle": false,
     "tableResultSettingsMap": {},
     "title": ""
    }
   },
   "outputs": [
    {
     "output_type": "display_data",
     "data": {
      "text/plain": [
       "\n",
       "1. Enqueue\n",
       "2. Dequeue\n",
       "3. Display\n",
       "4. Exit\n",
       "Choose option:  1"
      ]
     },
     "metadata": {},
     "output_type": "display_data"
    },
    {
     "output_type": "display_data",
     "data": {
      "text/plain": [
       "Enter the value:  60"
      ]
     },
     "metadata": {},
     "output_type": "display_data"
    },
    {
     "output_type": "stream",
     "name": "stdout",
     "output_type": "stream",
     "text": [
      "Enqueued 60\n"
     ]
    },
    {
     "output_type": "display_data",
     "data": {
      "text/plain": [
       "\n",
       "1. Enqueue\n",
       "2. Dequeue\n",
       "3. Display\n",
       "4. Exit\n",
       "Choose option:  1"
      ]
     },
     "metadata": {},
     "output_type": "display_data"
    },
    {
     "output_type": "display_data",
     "data": {
      "text/plain": [
       "Enter the value:  70"
      ]
     },
     "metadata": {},
     "output_type": "display_data"
    },
    {
     "output_type": "stream",
     "name": "stdout",
     "output_type": "stream",
     "text": [
      "Enqueued 70\n"
     ]
    },
    {
     "output_type": "display_data",
     "data": {
      "text/plain": [
       "\n",
       "1. Enqueue\n",
       "2. Dequeue\n",
       "3. Display\n",
       "4. Exit\n",
       "Choose option:  3"
      ]
     },
     "metadata": {},
     "output_type": "display_data"
    },
    {
     "output_type": "stream",
     "name": "stdout",
     "output_type": "stream",
     "text": [
      "Full Queue: [60, 70]\n"
     ]
    },
    {
     "output_type": "display_data",
     "data": {
      "text/plain": [
       "\n",
       "1. Enqueue\n",
       "2. Dequeue\n",
       "3. Display\n",
       "4. Exit\n",
       "Choose option:  2"
      ]
     },
     "metadata": {},
     "output_type": "display_data"
    },
    {
     "output_type": "stream",
     "name": "stdout",
     "output_type": "stream",
     "text": [
      "Dequeued value is 60\n"
     ]
    },
    {
     "output_type": "display_data",
     "data": {
      "text/plain": [
       "\n",
       "1. Enqueue\n",
       "2. Dequeue\n",
       "3. Display\n",
       "4. Exit\n",
       "Choose option:  3"
      ]
     },
     "metadata": {},
     "output_type": "display_data"
    },
    {
     "output_type": "stream",
     "name": "stdout",
     "output_type": "stream",
     "text": [
      "Full Queue: [70]\n"
     ]
    },
    {
     "output_type": "display_data",
     "data": {
      "text/plain": [
       "\n",
       "1. Enqueue\n",
       "2. Dequeue\n",
       "3. Display\n",
       "4. Exit\n",
       "Choose option:  4"
      ]
     },
     "metadata": {},
     "output_type": "display_data"
    },
    {
     "output_type": "stream",
     "name": "stdout",
     "output_type": "stream",
     "text": [
      "Exiting program.\n"
     ]
    }
   ],
   "source": [
    "# Queue implementation using list\n",
    "class Queue(): \n",
    "    def __init__(self):\n",
    "        self.queue = []\n",
    "    \n",
    "    def enqueue(self):\n",
    "        value = int(input(\"Enter the value: \"))\n",
    "        self.queue.append(value)\n",
    "        print(\"Enqueued\", value)\n",
    "    \n",
    "    def dequeue(self):\n",
    "        if not self.queue:\n",
    "            print(\"Queue is empty\")\n",
    "        else:\n",
    "            removed = self.queue.pop(0)\n",
    "            print(\"Dequeued value is\", removed)\n",
    "    \n",
    "    def display(self):\n",
    "        if not self.queue:\n",
    "            print(\"Queue is empty\")\n",
    "        else:\n",
    "            print(\"Full Queue:\", self.queue)\n",
    "\n",
    "q = Queue()\n",
    "while True:\n",
    "    choose = int(input(\"\\n1. Enqueue\\n2. Dequeue\\n3. Display\\n4. Exit\\nChoose option: \"))\n",
    "\n",
    "    if choose == 1:\n",
    "        q.enqueue()\n",
    "    elif choose == 2:\n",
    "        q.dequeue()\n",
    "    elif choose == 3:\n",
    "        q.display()\n",
    "    elif choose == 4:\n",
    "        print(\"Exiting program.\")\n",
    "        break\n",
    "    else:\n",
    "        print(\"Invalid choice. Please choose 1 to 4.\")"
   ]
  },
  {
   "cell_type": "code",
   "execution_count": 0,
   "metadata": {
    "application/vnd.databricks.v1+cell": {
     "cellMetadata": {
      "byteLimit": 2048000,
      "rowLimit": 10000
     },
     "inputWidgets": {},
     "nuid": "26379ba3-d6ab-4462-b4d0-46fb21cab3be",
     "showTitle": false,
     "tableResultSettingsMap": {},
     "title": ""
    }
   },
   "outputs": [
    {
     "output_type": "stream",
     "name": "stdout",
     "output_type": "stream",
     "text": [
      "10->20->30->40->None\n"
     ]
    }
   ],
   "source": [
    "#Single linked List\n",
    "class Node():\n",
    "    def __init__(self,data):\n",
    "        self.data=data\n",
    "        self.next=None\n",
    "node1=Node(10)\n",
    "node2=Node(20)\n",
    "node3=Node(30)\n",
    "node4=Node(40)\n",
    "\n",
    "node1.next=node2\n",
    "node2.next=node3\n",
    "node3.next=node4  \n",
    "\n",
    "current=node1\n",
    "while current is not None:\n",
    "    print(current.data,end=\"->\")\n",
    "    current=current.next\n",
    "print(\"None\")     "
   ]
  },
  {
   "cell_type": "code",
   "execution_count": 0,
   "metadata": {
    "application/vnd.databricks.v1+cell": {
     "cellMetadata": {
      "byteLimit": 2048000,
      "rowLimit": 10000
     },
     "inputWidgets": {},
     "nuid": "fa58292d-8ee1-4fc6-8194-43dbe8e2ce78",
     "showTitle": false,
     "tableResultSettingsMap": {},
     "title": ""
    }
   },
   "outputs": [
    {
     "output_type": "stream",
     "name": "stdout",
     "output_type": "stream",
     "text": [
      "Before Reversing:\n1 -> 2 -> 3 -> 4 -> 5 -> None\n\nAfter Reversing:\n5 -> 4 -> 3 -> 2 -> 1 -> None\n"
     ]
    }
   ],
   "source": [
    "#206 reverse linked list\n",
    "class Node:\n",
    "    def __init__(self, data):\n",
    "        self.data = data\n",
    "        self.next = None\n",
    "\n",
    "node1 = Node(1)\n",
    "node2 = Node(2)\n",
    "node3 = Node(3)\n",
    "node4 = Node(4)\n",
    "node5 = Node(5)\n",
    "\n",
    "node1.next = node2\n",
    "node2.next = node3\n",
    "node3.next = node4\n",
    "node4.next = node5\n",
    "#print\n",
    "current = node1\n",
    "while current is not None:\n",
    "    print(current.data, end=\" -> \")\n",
    "    current = current.next\n",
    "print(\"None\")\n",
    "#logic\n",
    "prev = None\n",
    "current = node1\n",
    "\n",
    "while current is not None:\n",
    "    next_node = current.next\n",
    "    current.next = prev\n",
    "    prev = current\n",
    "    current = next_node\n",
    "#print\n",
    "current = prev\n",
    "while current:\n",
    "    print(current.data, end=\" -> \")\n",
    "    current = current.next\n",
    "print(\"None\")\n"
   ]
  }
 ],
 "metadata": {
  "application/vnd.databricks.v1+notebook": {
   "computePreferences": null,
   "dashboards": [],
   "environmentMetadata": {
    "base_environment": "",
    "environment_version": "2"
   },
   "inputWidgetPreferences": null,
   "language": "python",
   "notebookMetadata": {
    "pythonIndentUnit": 4
   },
   "notebookName": "Data Structures – Stack, Queue, Linked List",
   "widgets": {}
  },
  "language_info": {
   "name": "python"
  }
 },
 "nbformat": 4,
 "nbformat_minor": 0
}